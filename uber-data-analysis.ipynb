{
 "cells": [
  {
   "cell_type": "markdown",
   "metadata": {
    "papermill": {
     "duration": 0.030398,
     "end_time": "2021-05-15T09:31:22.195960",
     "exception": false,
     "start_time": "2021-05-15T09:31:22.165562",
     "status": "completed"
    },
    "tags": []
   },
   "source": [
    "# Problem\tStatement:\tFind\tout\tthe\tsupply\tdemand\tgap.\n"
   ]
  },
  {
   "cell_type": "markdown",
   "metadata": {
    "papermill": {
     "duration": 0.029682,
     "end_time": "2021-05-15T09:31:22.257146",
     "exception": false,
     "start_time": "2021-05-15T09:31:22.227464",
     "status": "completed"
    },
    "tags": []
   },
   "source": [
    "Steps taken are:\n",
    "1. Data cleaning and Manipulation\n",
    "2. Analysing trends for each day\n",
    "3. Combining data for all days\n",
    "4. Binning time into 5 categories\n",
    "5. Problem identification\n",
    "   * Cancelled trip\n",
    "   * No Cars available"
   ]
  },
  {
   "cell_type": "code",
   "execution_count": 1,
   "metadata": {
    "execution": {
     "iopub.execute_input": "2021-05-15T09:31:22.321994Z",
     "iopub.status.busy": "2021-05-15T09:31:22.321265Z",
     "iopub.status.idle": "2021-05-15T09:31:23.259453Z",
     "shell.execute_reply": "2021-05-15T09:31:23.258695Z"
    },
    "papermill": {
     "duration": 0.97312,
     "end_time": "2021-05-15T09:31:23.259578",
     "exception": false,
     "start_time": "2021-05-15T09:31:22.286458",
     "status": "completed"
    },
    "tags": []
   },
   "outputs": [],
   "source": [
    "import pandas as pd\n",
    "import matplotlib.pyplot as plt\n",
    "import seaborn as sns"
   ]
  },
  {
   "cell_type": "markdown",
   "metadata": {
    "papermill": {
     "duration": 0.028262,
     "end_time": "2021-05-15T09:31:23.317206",
     "exception": false,
     "start_time": "2021-05-15T09:31:23.288944",
     "status": "completed"
    },
    "tags": []
   },
   "source": [
    "# import csv file"
   ]
  },
  {
   "cell_type": "code",
   "execution_count": 2,
   "metadata": {
    "execution": {
     "iopub.execute_input": "2021-05-15T09:31:23.385155Z",
     "iopub.status.busy": "2021-05-15T09:31:23.384451Z",
     "iopub.status.idle": "2021-05-15T09:31:23.408566Z",
     "shell.execute_reply": "2021-05-15T09:31:23.407931Z"
    },
    "papermill": {
     "duration": 0.062741,
     "end_time": "2021-05-15T09:31:23.408671",
     "exception": false,
     "start_time": "2021-05-15T09:31:23.345930",
     "status": "completed"
    },
    "tags": []
   },
   "outputs": [],
   "source": [
    "df=pd.read_csv('../input/uber-data/Uber Request Data1.csv')"
   ]
  },
  {
   "cell_type": "code",
   "execution_count": 3,
   "metadata": {
    "execution": {
     "iopub.execute_input": "2021-05-15T09:31:23.480968Z",
     "iopub.status.busy": "2021-05-15T09:31:23.480336Z",
     "iopub.status.idle": "2021-05-15T09:31:23.490615Z",
     "shell.execute_reply": "2021-05-15T09:31:23.491159Z"
    },
    "papermill": {
     "duration": 0.05369,
     "end_time": "2021-05-15T09:31:23.491320",
     "exception": false,
     "start_time": "2021-05-15T09:31:23.437630",
     "status": "completed"
    },
    "tags": []
   },
   "outputs": [
    {
     "data": {
      "text/html": [
       "<div>\n",
       "<style scoped>\n",
       "    .dataframe tbody tr th:only-of-type {\n",
       "        vertical-align: middle;\n",
       "    }\n",
       "\n",
       "    .dataframe tbody tr th {\n",
       "        vertical-align: top;\n",
       "    }\n",
       "\n",
       "    .dataframe thead th {\n",
       "        text-align: right;\n",
       "    }\n",
       "</style>\n",
       "<table border=\"1\" class=\"dataframe\">\n",
       "  <thead>\n",
       "    <tr style=\"text-align: right;\">\n",
       "      <th></th>\n",
       "      <th>Request id</th>\n",
       "      <th>Pickup point</th>\n",
       "      <th>Driver id</th>\n",
       "      <th>Status</th>\n",
       "      <th>Request timestamp</th>\n",
       "      <th>Drop timestamp</th>\n",
       "    </tr>\n",
       "  </thead>\n",
       "  <tbody>\n",
       "    <tr>\n",
       "      <th>0</th>\n",
       "      <td>619</td>\n",
       "      <td>Airport</td>\n",
       "      <td>1.0</td>\n",
       "      <td>Trip Completed</td>\n",
       "      <td>11-07-2016 11:51</td>\n",
       "      <td>11-07-2016 13:00</td>\n",
       "    </tr>\n",
       "    <tr>\n",
       "      <th>1</th>\n",
       "      <td>867</td>\n",
       "      <td>Airport</td>\n",
       "      <td>1.0</td>\n",
       "      <td>Trip Completed</td>\n",
       "      <td>11-07-2016 17:57</td>\n",
       "      <td>11-07-2016 18:47</td>\n",
       "    </tr>\n",
       "    <tr>\n",
       "      <th>2</th>\n",
       "      <td>1807</td>\n",
       "      <td>City</td>\n",
       "      <td>1.0</td>\n",
       "      <td>Trip Completed</td>\n",
       "      <td>12-07-2016 09:17</td>\n",
       "      <td>12-07-2016 09:58</td>\n",
       "    </tr>\n",
       "    <tr>\n",
       "      <th>3</th>\n",
       "      <td>2532</td>\n",
       "      <td>Airport</td>\n",
       "      <td>1.0</td>\n",
       "      <td>Trip Completed</td>\n",
       "      <td>12-07-2016 21:08</td>\n",
       "      <td>12-07-2016 22:03</td>\n",
       "    </tr>\n",
       "    <tr>\n",
       "      <th>4</th>\n",
       "      <td>3112</td>\n",
       "      <td>City</td>\n",
       "      <td>1.0</td>\n",
       "      <td>Trip Completed</td>\n",
       "      <td>13-07-2016 08:33</td>\n",
       "      <td>13-07-2016 09:25</td>\n",
       "    </tr>\n",
       "  </tbody>\n",
       "</table>\n",
       "</div>"
      ],
      "text/plain": [
       "   Request id Pickup point  Driver id          Status Request timestamp  \\\n",
       "0         619      Airport        1.0  Trip Completed  11-07-2016 11:51   \n",
       "1         867      Airport        1.0  Trip Completed  11-07-2016 17:57   \n",
       "2        1807         City        1.0  Trip Completed  12-07-2016 09:17   \n",
       "3        2532      Airport        1.0  Trip Completed  12-07-2016 21:08   \n",
       "4        3112         City        1.0  Trip Completed  13-07-2016 08:33   \n",
       "\n",
       "     Drop timestamp  \n",
       "0  11-07-2016 13:00  \n",
       "1  11-07-2016 18:47  \n",
       "2  12-07-2016 09:58  \n",
       "3  12-07-2016 22:03  \n",
       "4  13-07-2016 09:25  "
      ]
     },
     "execution_count": 3,
     "metadata": {},
     "output_type": "execute_result"
    }
   ],
   "source": [
    "df.head()"
   ]
  },
  {
   "cell_type": "markdown",
   "metadata": {
    "papermill": {
     "duration": 0.030217,
     "end_time": "2021-05-15T09:31:23.552757",
     "exception": false,
     "start_time": "2021-05-15T09:31:23.522540",
     "status": "completed"
    },
    "tags": []
   },
   "source": [
    "# check dimensions"
   ]
  },
  {
   "cell_type": "code",
   "execution_count": 4,
   "metadata": {
    "execution": {
     "iopub.execute_input": "2021-05-15T09:31:23.620409Z",
     "iopub.status.busy": "2021-05-15T09:31:23.619694Z",
     "iopub.status.idle": "2021-05-15T09:31:23.622568Z",
     "shell.execute_reply": "2021-05-15T09:31:23.623077Z"
    },
    "papermill": {
     "duration": 0.038852,
     "end_time": "2021-05-15T09:31:23.623258",
     "exception": false,
     "start_time": "2021-05-15T09:31:23.584406",
     "status": "completed"
    },
    "tags": []
   },
   "outputs": [
    {
     "data": {
      "text/plain": [
       "(6745, 6)"
      ]
     },
     "execution_count": 4,
     "metadata": {},
     "output_type": "execute_result"
    }
   ],
   "source": [
    "df.shape"
   ]
  },
  {
   "cell_type": "code",
   "execution_count": 5,
   "metadata": {
    "execution": {
     "iopub.execute_input": "2021-05-15T09:31:23.690709Z",
     "iopub.status.busy": "2021-05-15T09:31:23.690084Z",
     "iopub.status.idle": "2021-05-15T09:31:23.694648Z",
     "shell.execute_reply": "2021-05-15T09:31:23.695305Z"
    },
    "papermill": {
     "duration": 0.038995,
     "end_time": "2021-05-15T09:31:23.695475",
     "exception": false,
     "start_time": "2021-05-15T09:31:23.656480",
     "status": "completed"
    },
    "tags": []
   },
   "outputs": [
    {
     "data": {
      "text/plain": [
       "Index(['Request id', 'Pickup point', 'Driver id', 'Status',\n",
       "       'Request timestamp', 'Drop timestamp'],\n",
       "      dtype='object')"
      ]
     },
     "execution_count": 5,
     "metadata": {},
     "output_type": "execute_result"
    }
   ],
   "source": [
    "df.columns"
   ]
  },
  {
   "cell_type": "markdown",
   "metadata": {
    "papermill": {
     "duration": 0.036158,
     "end_time": "2021-05-15T09:31:23.762811",
     "exception": false,
     "start_time": "2021-05-15T09:31:23.726653",
     "status": "completed"
    },
    "tags": []
   },
   "source": [
    "# drop duplicate values on the basis of Request id"
   ]
  },
  {
   "cell_type": "code",
   "execution_count": 6,
   "metadata": {
    "execution": {
     "iopub.execute_input": "2021-05-15T09:31:23.828816Z",
     "iopub.status.busy": "2021-05-15T09:31:23.828199Z",
     "iopub.status.idle": "2021-05-15T09:31:23.857460Z",
     "shell.execute_reply": "2021-05-15T09:31:23.856924Z"
    },
    "papermill": {
     "duration": 0.062982,
     "end_time": "2021-05-15T09:31:23.857587",
     "exception": false,
     "start_time": "2021-05-15T09:31:23.794605",
     "status": "completed"
    },
    "tags": []
   },
   "outputs": [
    {
     "data": {
      "text/html": [
       "<div>\n",
       "<style scoped>\n",
       "    .dataframe tbody tr th:only-of-type {\n",
       "        vertical-align: middle;\n",
       "    }\n",
       "\n",
       "    .dataframe tbody tr th {\n",
       "        vertical-align: top;\n",
       "    }\n",
       "\n",
       "    .dataframe thead th {\n",
       "        text-align: right;\n",
       "    }\n",
       "</style>\n",
       "<table border=\"1\" class=\"dataframe\">\n",
       "  <thead>\n",
       "    <tr style=\"text-align: right;\">\n",
       "      <th></th>\n",
       "      <th>Request id</th>\n",
       "      <th>Pickup point</th>\n",
       "      <th>Driver id</th>\n",
       "      <th>Status</th>\n",
       "      <th>Request timestamp</th>\n",
       "      <th>Drop timestamp</th>\n",
       "    </tr>\n",
       "  </thead>\n",
       "  <tbody>\n",
       "    <tr>\n",
       "      <th>0</th>\n",
       "      <td>619</td>\n",
       "      <td>Airport</td>\n",
       "      <td>1.0</td>\n",
       "      <td>Trip Completed</td>\n",
       "      <td>11-07-2016 11:51</td>\n",
       "      <td>11-07-2016 13:00</td>\n",
       "    </tr>\n",
       "    <tr>\n",
       "      <th>1</th>\n",
       "      <td>867</td>\n",
       "      <td>Airport</td>\n",
       "      <td>1.0</td>\n",
       "      <td>Trip Completed</td>\n",
       "      <td>11-07-2016 17:57</td>\n",
       "      <td>11-07-2016 18:47</td>\n",
       "    </tr>\n",
       "    <tr>\n",
       "      <th>2</th>\n",
       "      <td>1807</td>\n",
       "      <td>City</td>\n",
       "      <td>1.0</td>\n",
       "      <td>Trip Completed</td>\n",
       "      <td>12-07-2016 09:17</td>\n",
       "      <td>12-07-2016 09:58</td>\n",
       "    </tr>\n",
       "    <tr>\n",
       "      <th>3</th>\n",
       "      <td>2532</td>\n",
       "      <td>Airport</td>\n",
       "      <td>1.0</td>\n",
       "      <td>Trip Completed</td>\n",
       "      <td>12-07-2016 21:08</td>\n",
       "      <td>12-07-2016 22:03</td>\n",
       "    </tr>\n",
       "    <tr>\n",
       "      <th>4</th>\n",
       "      <td>3112</td>\n",
       "      <td>City</td>\n",
       "      <td>1.0</td>\n",
       "      <td>Trip Completed</td>\n",
       "      <td>13-07-2016 08:33</td>\n",
       "      <td>13-07-2016 09:25</td>\n",
       "    </tr>\n",
       "    <tr>\n",
       "      <th>...</th>\n",
       "      <td>...</td>\n",
       "      <td>...</td>\n",
       "      <td>...</td>\n",
       "      <td>...</td>\n",
       "      <td>...</td>\n",
       "      <td>...</td>\n",
       "    </tr>\n",
       "    <tr>\n",
       "      <th>6740</th>\n",
       "      <td>6745</td>\n",
       "      <td>City</td>\n",
       "      <td>NaN</td>\n",
       "      <td>No Cars Available</td>\n",
       "      <td>15-07-2016 23:49</td>\n",
       "      <td>NaN</td>\n",
       "    </tr>\n",
       "    <tr>\n",
       "      <th>6741</th>\n",
       "      <td>6752</td>\n",
       "      <td>Airport</td>\n",
       "      <td>NaN</td>\n",
       "      <td>No Cars Available</td>\n",
       "      <td>15-07-2016 23:50</td>\n",
       "      <td>NaN</td>\n",
       "    </tr>\n",
       "    <tr>\n",
       "      <th>6742</th>\n",
       "      <td>6751</td>\n",
       "      <td>City</td>\n",
       "      <td>NaN</td>\n",
       "      <td>No Cars Available</td>\n",
       "      <td>15-07-2016 23:52</td>\n",
       "      <td>NaN</td>\n",
       "    </tr>\n",
       "    <tr>\n",
       "      <th>6743</th>\n",
       "      <td>6754</td>\n",
       "      <td>City</td>\n",
       "      <td>NaN</td>\n",
       "      <td>No Cars Available</td>\n",
       "      <td>15-07-2016 23:54</td>\n",
       "      <td>NaN</td>\n",
       "    </tr>\n",
       "    <tr>\n",
       "      <th>6744</th>\n",
       "      <td>6753</td>\n",
       "      <td>Airport</td>\n",
       "      <td>NaN</td>\n",
       "      <td>No Cars Available</td>\n",
       "      <td>15-07-2016 23:55</td>\n",
       "      <td>NaN</td>\n",
       "    </tr>\n",
       "  </tbody>\n",
       "</table>\n",
       "<p>6745 rows × 6 columns</p>\n",
       "</div>"
      ],
      "text/plain": [
       "      Request id Pickup point  Driver id             Status Request timestamp  \\\n",
       "0            619      Airport        1.0     Trip Completed  11-07-2016 11:51   \n",
       "1            867      Airport        1.0     Trip Completed  11-07-2016 17:57   \n",
       "2           1807         City        1.0     Trip Completed  12-07-2016 09:17   \n",
       "3           2532      Airport        1.0     Trip Completed  12-07-2016 21:08   \n",
       "4           3112         City        1.0     Trip Completed  13-07-2016 08:33   \n",
       "...          ...          ...        ...                ...               ...   \n",
       "6740        6745         City        NaN  No Cars Available  15-07-2016 23:49   \n",
       "6741        6752      Airport        NaN  No Cars Available  15-07-2016 23:50   \n",
       "6742        6751         City        NaN  No Cars Available  15-07-2016 23:52   \n",
       "6743        6754         City        NaN  No Cars Available  15-07-2016 23:54   \n",
       "6744        6753      Airport        NaN  No Cars Available  15-07-2016 23:55   \n",
       "\n",
       "        Drop timestamp  \n",
       "0     11-07-2016 13:00  \n",
       "1     11-07-2016 18:47  \n",
       "2     12-07-2016 09:58  \n",
       "3     12-07-2016 22:03  \n",
       "4     13-07-2016 09:25  \n",
       "...                ...  \n",
       "6740               NaN  \n",
       "6741               NaN  \n",
       "6742               NaN  \n",
       "6743               NaN  \n",
       "6744               NaN  \n",
       "\n",
       "[6745 rows x 6 columns]"
      ]
     },
     "execution_count": 6,
     "metadata": {},
     "output_type": "execute_result"
    }
   ],
   "source": [
    "df.drop_duplicates('Request id')"
   ]
  },
  {
   "cell_type": "markdown",
   "metadata": {
    "papermill": {
     "duration": 0.031581,
     "end_time": "2021-05-15T09:31:23.921470",
     "exception": false,
     "start_time": "2021-05-15T09:31:23.889889",
     "status": "completed"
    },
    "tags": []
   },
   "source": [
    "# check null values "
   ]
  },
  {
   "cell_type": "code",
   "execution_count": 7,
   "metadata": {
    "execution": {
     "iopub.execute_input": "2021-05-15T09:31:23.996742Z",
     "iopub.status.busy": "2021-05-15T09:31:23.995716Z",
     "iopub.status.idle": "2021-05-15T09:31:24.003562Z",
     "shell.execute_reply": "2021-05-15T09:31:24.002888Z"
    },
    "papermill": {
     "duration": 0.048292,
     "end_time": "2021-05-15T09:31:24.003703",
     "exception": false,
     "start_time": "2021-05-15T09:31:23.955411",
     "status": "completed"
    },
    "tags": []
   },
   "outputs": [
    {
     "data": {
      "text/plain": [
       "Request id              0\n",
       "Pickup point            0\n",
       "Driver id            2650\n",
       "Status                  0\n",
       "Request timestamp       0\n",
       "Drop timestamp       3914\n",
       "dtype: int64"
      ]
     },
     "execution_count": 7,
     "metadata": {},
     "output_type": "execute_result"
    }
   ],
   "source": [
    "df.isnull().sum()"
   ]
  },
  {
   "cell_type": "code",
   "execution_count": 8,
   "metadata": {
    "execution": {
     "iopub.execute_input": "2021-05-15T09:31:24.079602Z",
     "iopub.status.busy": "2021-05-15T09:31:24.077764Z",
     "iopub.status.idle": "2021-05-15T09:31:24.111477Z",
     "shell.execute_reply": "2021-05-15T09:31:24.110893Z"
    },
    "papermill": {
     "duration": 0.075556,
     "end_time": "2021-05-15T09:31:24.111602",
     "exception": false,
     "start_time": "2021-05-15T09:31:24.036046",
     "status": "completed"
    },
    "tags": []
   },
   "outputs": [
    {
     "name": "stdout",
     "output_type": "stream",
     "text": [
      "Request id            0.000000\n",
      "Pickup point          0.000000\n",
      "Driver id            39.288362\n",
      "Status                0.000000\n",
      "Request timestamp     0.000000\n",
      "Drop timestamp       58.028169\n",
      "dtype: float64\n"
     ]
    }
   ],
   "source": [
    "print(100*(df.isnull().sum())/6745)"
   ]
  },
  {
   "cell_type": "code",
   "execution_count": 9,
   "metadata": {
    "execution": {
     "iopub.execute_input": "2021-05-15T09:31:24.184879Z",
     "iopub.status.busy": "2021-05-15T09:31:24.184273Z",
     "iopub.status.idle": "2021-05-15T09:31:24.198365Z",
     "shell.execute_reply": "2021-05-15T09:31:24.197635Z"
    },
    "papermill": {
     "duration": 0.050259,
     "end_time": "2021-05-15T09:31:24.198499",
     "exception": false,
     "start_time": "2021-05-15T09:31:24.148240",
     "status": "completed"
    },
    "tags": []
   },
   "outputs": [
    {
     "data": {
      "text/plain": [
       "<bound method NDFrame.describe of       Request id Pickup point  Driver id             Status Request timestamp  \\\n",
       "0            619      Airport        1.0     Trip Completed  11-07-2016 11:51   \n",
       "1            867      Airport        1.0     Trip Completed  11-07-2016 17:57   \n",
       "2           1807         City        1.0     Trip Completed  12-07-2016 09:17   \n",
       "3           2532      Airport        1.0     Trip Completed  12-07-2016 21:08   \n",
       "4           3112         City        1.0     Trip Completed  13-07-2016 08:33   \n",
       "...          ...          ...        ...                ...               ...   \n",
       "6740        6745         City        NaN  No Cars Available  15-07-2016 23:49   \n",
       "6741        6752      Airport        NaN  No Cars Available  15-07-2016 23:50   \n",
       "6742        6751         City        NaN  No Cars Available  15-07-2016 23:52   \n",
       "6743        6754         City        NaN  No Cars Available  15-07-2016 23:54   \n",
       "6744        6753      Airport        NaN  No Cars Available  15-07-2016 23:55   \n",
       "\n",
       "        Drop timestamp  \n",
       "0     11-07-2016 13:00  \n",
       "1     11-07-2016 18:47  \n",
       "2     12-07-2016 09:58  \n",
       "3     12-07-2016 22:03  \n",
       "4     13-07-2016 09:25  \n",
       "...                ...  \n",
       "6740               NaN  \n",
       "6741               NaN  \n",
       "6742               NaN  \n",
       "6743               NaN  \n",
       "6744               NaN  \n",
       "\n",
       "[6745 rows x 6 columns]>"
      ]
     },
     "execution_count": 9,
     "metadata": {},
     "output_type": "execute_result"
    }
   ],
   "source": [
    "df.describe"
   ]
  },
  {
   "cell_type": "code",
   "execution_count": 10,
   "metadata": {
    "execution": {
     "iopub.execute_input": "2021-05-15T09:31:24.276207Z",
     "iopub.status.busy": "2021-05-15T09:31:24.274947Z",
     "iopub.status.idle": "2021-05-15T09:31:24.286046Z",
     "shell.execute_reply": "2021-05-15T09:31:24.286959Z"
    },
    "papermill": {
     "duration": 0.054854,
     "end_time": "2021-05-15T09:31:24.287203",
     "exception": false,
     "start_time": "2021-05-15T09:31:24.232349",
     "status": "completed"
    },
    "tags": []
   },
   "outputs": [
    {
     "name": "stdout",
     "output_type": "stream",
     "text": [
      "<class 'pandas.core.frame.DataFrame'>\n",
      "RangeIndex: 6745 entries, 0 to 6744\n",
      "Data columns (total 6 columns):\n",
      " #   Column             Non-Null Count  Dtype  \n",
      "---  ------             --------------  -----  \n",
      " 0   Request id         6745 non-null   int64  \n",
      " 1   Pickup point       6745 non-null   object \n",
      " 2   Driver id          4095 non-null   float64\n",
      " 3   Status             6745 non-null   object \n",
      " 4   Request timestamp  6745 non-null   object \n",
      " 5   Drop timestamp     2831 non-null   object \n",
      "dtypes: float64(1), int64(1), object(4)\n",
      "memory usage: 316.3+ KB\n"
     ]
    }
   ],
   "source": [
    "df.info()"
   ]
  },
  {
   "cell_type": "markdown",
   "metadata": {
    "papermill": {
     "duration": 0.034464,
     "end_time": "2021-05-15T09:31:24.356452",
     "exception": false,
     "start_time": "2021-05-15T09:31:24.321988",
     "status": "completed"
    },
    "tags": []
   },
   "source": [
    "# as we can see Request timestamp and Drop timestamp are non-null objects, now change them into datetime object"
   ]
  },
  {
   "cell_type": "code",
   "execution_count": 11,
   "metadata": {
    "execution": {
     "iopub.execute_input": "2021-05-15T09:31:24.483888Z",
     "iopub.status.busy": "2021-05-15T09:31:24.447216Z",
     "iopub.status.idle": "2021-05-15T09:31:25.147281Z",
     "shell.execute_reply": "2021-05-15T09:31:25.146508Z"
    },
    "papermill": {
     "duration": 0.757106,
     "end_time": "2021-05-15T09:31:25.147420",
     "exception": false,
     "start_time": "2021-05-15T09:31:24.390314",
     "status": "completed"
    },
    "tags": []
   },
   "outputs": [],
   "source": [
    "df['Request timestamp']=df['Request timestamp'].astype(str)\n",
    "df['Request timestamp']=df['Request timestamp'].str.replace('/','-')\n",
    "df['Request timestamp']=pd.to_datetime(df['Request timestamp'],dayfirst=True)"
   ]
  },
  {
   "cell_type": "code",
   "execution_count": 12,
   "metadata": {
    "execution": {
     "iopub.execute_input": "2021-05-15T09:31:25.219752Z",
     "iopub.status.busy": "2021-05-15T09:31:25.219025Z",
     "iopub.status.idle": "2021-05-15T09:31:25.527073Z",
     "shell.execute_reply": "2021-05-15T09:31:25.527587Z"
    },
    "papermill": {
     "duration": 0.346132,
     "end_time": "2021-05-15T09:31:25.527758",
     "exception": false,
     "start_time": "2021-05-15T09:31:25.181626",
     "status": "completed"
    },
    "tags": []
   },
   "outputs": [],
   "source": [
    "df['Drop timestamp']=df['Drop timestamp'].astype(str)\n",
    "df['Drop timestamp']=df['Drop timestamp'].str.replace('/','-')\n",
    "df['Drop timestamp']=pd.to_datetime(df['Drop timestamp'],dayfirst=True)"
   ]
  },
  {
   "cell_type": "code",
   "execution_count": 13,
   "metadata": {
    "execution": {
     "iopub.execute_input": "2021-05-15T09:31:25.600011Z",
     "iopub.status.busy": "2021-05-15T09:31:25.599366Z",
     "iopub.status.idle": "2021-05-15T09:31:25.611373Z",
     "shell.execute_reply": "2021-05-15T09:31:25.612397Z"
    },
    "papermill": {
     "duration": 0.050617,
     "end_time": "2021-05-15T09:31:25.612682",
     "exception": false,
     "start_time": "2021-05-15T09:31:25.562065",
     "status": "completed"
    },
    "tags": []
   },
   "outputs": [
    {
     "name": "stdout",
     "output_type": "stream",
     "text": [
      "<class 'pandas.core.frame.DataFrame'>\n",
      "RangeIndex: 6745 entries, 0 to 6744\n",
      "Data columns (total 6 columns):\n",
      " #   Column             Non-Null Count  Dtype         \n",
      "---  ------             --------------  -----         \n",
      " 0   Request id         6745 non-null   int64         \n",
      " 1   Pickup point       6745 non-null   object        \n",
      " 2   Driver id          4095 non-null   float64       \n",
      " 3   Status             6745 non-null   object        \n",
      " 4   Request timestamp  6745 non-null   datetime64[ns]\n",
      " 5   Drop timestamp     2831 non-null   datetime64[ns]\n",
      "dtypes: datetime64[ns](2), float64(1), int64(1), object(2)\n",
      "memory usage: 316.3+ KB\n"
     ]
    }
   ],
   "source": [
    "df.info()"
   ]
  },
  {
   "cell_type": "code",
   "execution_count": 14,
   "metadata": {
    "execution": {
     "iopub.execute_input": "2021-05-15T09:31:25.687008Z",
     "iopub.status.busy": "2021-05-15T09:31:25.686345Z",
     "iopub.status.idle": "2021-05-15T09:31:25.706888Z",
     "shell.execute_reply": "2021-05-15T09:31:25.707436Z"
    },
    "papermill": {
     "duration": 0.058879,
     "end_time": "2021-05-15T09:31:25.707576",
     "exception": false,
     "start_time": "2021-05-15T09:31:25.648697",
     "status": "completed"
    },
    "tags": []
   },
   "outputs": [
    {
     "data": {
      "text/html": [
       "<div>\n",
       "<style scoped>\n",
       "    .dataframe tbody tr th:only-of-type {\n",
       "        vertical-align: middle;\n",
       "    }\n",
       "\n",
       "    .dataframe tbody tr th {\n",
       "        vertical-align: top;\n",
       "    }\n",
       "\n",
       "    .dataframe thead th {\n",
       "        text-align: right;\n",
       "    }\n",
       "</style>\n",
       "<table border=\"1\" class=\"dataframe\">\n",
       "  <thead>\n",
       "    <tr style=\"text-align: right;\">\n",
       "      <th></th>\n",
       "      <th>Request id</th>\n",
       "      <th>Pickup point</th>\n",
       "      <th>Driver id</th>\n",
       "      <th>Status</th>\n",
       "      <th>Request timestamp</th>\n",
       "      <th>Drop timestamp</th>\n",
       "    </tr>\n",
       "  </thead>\n",
       "  <tbody>\n",
       "    <tr>\n",
       "      <th>0</th>\n",
       "      <td>619</td>\n",
       "      <td>Airport</td>\n",
       "      <td>1.0</td>\n",
       "      <td>Trip Completed</td>\n",
       "      <td>2016-07-11 11:51:00</td>\n",
       "      <td>2016-07-11 13:00:00</td>\n",
       "    </tr>\n",
       "    <tr>\n",
       "      <th>1</th>\n",
       "      <td>867</td>\n",
       "      <td>Airport</td>\n",
       "      <td>1.0</td>\n",
       "      <td>Trip Completed</td>\n",
       "      <td>2016-07-11 17:57:00</td>\n",
       "      <td>2016-07-11 18:47:00</td>\n",
       "    </tr>\n",
       "    <tr>\n",
       "      <th>2</th>\n",
       "      <td>1807</td>\n",
       "      <td>City</td>\n",
       "      <td>1.0</td>\n",
       "      <td>Trip Completed</td>\n",
       "      <td>2016-07-12 09:17:00</td>\n",
       "      <td>2016-07-12 09:58:00</td>\n",
       "    </tr>\n",
       "    <tr>\n",
       "      <th>3</th>\n",
       "      <td>2532</td>\n",
       "      <td>Airport</td>\n",
       "      <td>1.0</td>\n",
       "      <td>Trip Completed</td>\n",
       "      <td>2016-07-12 21:08:00</td>\n",
       "      <td>2016-07-12 22:03:00</td>\n",
       "    </tr>\n",
       "    <tr>\n",
       "      <th>4</th>\n",
       "      <td>3112</td>\n",
       "      <td>City</td>\n",
       "      <td>1.0</td>\n",
       "      <td>Trip Completed</td>\n",
       "      <td>2016-07-13 08:33:00</td>\n",
       "      <td>2016-07-13 09:25:00</td>\n",
       "    </tr>\n",
       "    <tr>\n",
       "      <th>...</th>\n",
       "      <td>...</td>\n",
       "      <td>...</td>\n",
       "      <td>...</td>\n",
       "      <td>...</td>\n",
       "      <td>...</td>\n",
       "      <td>...</td>\n",
       "    </tr>\n",
       "    <tr>\n",
       "      <th>6740</th>\n",
       "      <td>6745</td>\n",
       "      <td>City</td>\n",
       "      <td>NaN</td>\n",
       "      <td>No Cars Available</td>\n",
       "      <td>2016-07-15 23:49:00</td>\n",
       "      <td>NaT</td>\n",
       "    </tr>\n",
       "    <tr>\n",
       "      <th>6741</th>\n",
       "      <td>6752</td>\n",
       "      <td>Airport</td>\n",
       "      <td>NaN</td>\n",
       "      <td>No Cars Available</td>\n",
       "      <td>2016-07-15 23:50:00</td>\n",
       "      <td>NaT</td>\n",
       "    </tr>\n",
       "    <tr>\n",
       "      <th>6742</th>\n",
       "      <td>6751</td>\n",
       "      <td>City</td>\n",
       "      <td>NaN</td>\n",
       "      <td>No Cars Available</td>\n",
       "      <td>2016-07-15 23:52:00</td>\n",
       "      <td>NaT</td>\n",
       "    </tr>\n",
       "    <tr>\n",
       "      <th>6743</th>\n",
       "      <td>6754</td>\n",
       "      <td>City</td>\n",
       "      <td>NaN</td>\n",
       "      <td>No Cars Available</td>\n",
       "      <td>2016-07-15 23:54:00</td>\n",
       "      <td>NaT</td>\n",
       "    </tr>\n",
       "    <tr>\n",
       "      <th>6744</th>\n",
       "      <td>6753</td>\n",
       "      <td>Airport</td>\n",
       "      <td>NaN</td>\n",
       "      <td>No Cars Available</td>\n",
       "      <td>2016-07-15 23:55:00</td>\n",
       "      <td>NaT</td>\n",
       "    </tr>\n",
       "  </tbody>\n",
       "</table>\n",
       "<p>6745 rows × 6 columns</p>\n",
       "</div>"
      ],
      "text/plain": [
       "      Request id Pickup point  Driver id             Status  \\\n",
       "0            619      Airport        1.0     Trip Completed   \n",
       "1            867      Airport        1.0     Trip Completed   \n",
       "2           1807         City        1.0     Trip Completed   \n",
       "3           2532      Airport        1.0     Trip Completed   \n",
       "4           3112         City        1.0     Trip Completed   \n",
       "...          ...          ...        ...                ...   \n",
       "6740        6745         City        NaN  No Cars Available   \n",
       "6741        6752      Airport        NaN  No Cars Available   \n",
       "6742        6751         City        NaN  No Cars Available   \n",
       "6743        6754         City        NaN  No Cars Available   \n",
       "6744        6753      Airport        NaN  No Cars Available   \n",
       "\n",
       "       Request timestamp      Drop timestamp  \n",
       "0    2016-07-11 11:51:00 2016-07-11 13:00:00  \n",
       "1    2016-07-11 17:57:00 2016-07-11 18:47:00  \n",
       "2    2016-07-12 09:17:00 2016-07-12 09:58:00  \n",
       "3    2016-07-12 21:08:00 2016-07-12 22:03:00  \n",
       "4    2016-07-13 08:33:00 2016-07-13 09:25:00  \n",
       "...                  ...                 ...  \n",
       "6740 2016-07-15 23:49:00                 NaT  \n",
       "6741 2016-07-15 23:50:00                 NaT  \n",
       "6742 2016-07-15 23:52:00                 NaT  \n",
       "6743 2016-07-15 23:54:00                 NaT  \n",
       "6744 2016-07-15 23:55:00                 NaT  \n",
       "\n",
       "[6745 rows x 6 columns]"
      ]
     },
     "execution_count": 14,
     "metadata": {},
     "output_type": "execute_result"
    }
   ],
   "source": [
    "df"
   ]
  },
  {
   "cell_type": "markdown",
   "metadata": {
    "papermill": {
     "duration": 0.042509,
     "end_time": "2021-05-15T09:31:25.785187",
     "exception": false,
     "start_time": "2021-05-15T09:31:25.742678",
     "status": "completed"
    },
    "tags": []
   },
   "source": [
    "# extracting day and hour from Request timestamp"
   ]
  },
  {
   "cell_type": "code",
   "execution_count": 15,
   "metadata": {
    "execution": {
     "iopub.execute_input": "2021-05-15T09:31:25.877306Z",
     "iopub.status.busy": "2021-05-15T09:31:25.876636Z",
     "iopub.status.idle": "2021-05-15T09:31:25.887828Z",
     "shell.execute_reply": "2021-05-15T09:31:25.888618Z"
    },
    "papermill": {
     "duration": 0.055869,
     "end_time": "2021-05-15T09:31:25.888799",
     "exception": false,
     "start_time": "2021-05-15T09:31:25.832930",
     "status": "completed"
    },
    "tags": []
   },
   "outputs": [
    {
     "name": "stdout",
     "output_type": "stream",
     "text": [
      "15    1381\n",
      "11    1367\n",
      "14    1353\n",
      "13    1337\n",
      "12    1307\n",
      "Name: Request timestamp, dtype: int64\n"
     ]
    }
   ],
   "source": [
    "day=df['Request timestamp'].dt.day\n",
    "day.head()\n",
    "print(day.value_counts())\n",
    "df['day']=day"
   ]
  },
  {
   "cell_type": "code",
   "execution_count": 16,
   "metadata": {
    "execution": {
     "iopub.execute_input": "2021-05-15T09:31:25.966822Z",
     "iopub.status.busy": "2021-05-15T09:31:25.966179Z",
     "iopub.status.idle": "2021-05-15T09:31:25.974822Z",
     "shell.execute_reply": "2021-05-15T09:31:25.975582Z"
    },
    "papermill": {
     "duration": 0.051318,
     "end_time": "2021-05-15T09:31:25.975763",
     "exception": false,
     "start_time": "2021-05-15T09:31:25.924445",
     "status": "completed"
    },
    "tags": []
   },
   "outputs": [
    {
     "name": "stdout",
     "output_type": "stream",
     "text": [
      "18    510\n",
      "20    492\n",
      "19    473\n",
      "21    449\n",
      "5     445\n",
      "9     431\n",
      "8     423\n",
      "17    418\n",
      "7     406\n",
      "6     398\n",
      "22    304\n",
      "10    243\n",
      "4     203\n",
      "23    194\n",
      "12    184\n",
      "11    171\n",
      "15    171\n",
      "13    160\n",
      "16    159\n",
      "14    136\n",
      "2      99\n",
      "0      99\n",
      "3      92\n",
      "1      85\n",
      "Name: Request timestamp, dtype: int64\n"
     ]
    }
   ],
   "source": [
    "hour=df['Request timestamp'].dt.hour\n",
    "hour.head()\n",
    "print(hour.value_counts())\n",
    "df['hour']=hour"
   ]
  },
  {
   "cell_type": "code",
   "execution_count": 17,
   "metadata": {
    "execution": {
     "iopub.execute_input": "2021-05-15T09:31:26.053904Z",
     "iopub.status.busy": "2021-05-15T09:31:26.052855Z",
     "iopub.status.idle": "2021-05-15T09:31:29.415410Z",
     "shell.execute_reply": "2021-05-15T09:31:29.414858Z"
    },
    "papermill": {
     "duration": 3.402466,
     "end_time": "2021-05-15T09:31:29.415542",
     "exception": false,
     "start_time": "2021-05-15T09:31:26.013076",
     "status": "completed"
    },
    "tags": []
   },
   "outputs": [
    {
     "name": "stderr",
     "output_type": "stream",
     "text": [
      "/opt/conda/lib/python3.7/site-packages/seaborn/categorical.py:3669: UserWarning: The `factorplot` function has been renamed to `catplot`. The original name will be removed in a future release. Please update your code. Note that the default `kind` in `factorplot` (`'point'`) has changed `'strip'` in `catplot`.\n",
      "  warnings.warn(msg)\n"
     ]
    },
    {
     "data": {
      "image/png": "[encoded data removed]",
      "text/plain": [
       "<Figure size 483.5x1800 with 5 Axes>"
      ]
     },
     "metadata": {
      "needs_background": "light"
     },
     "output_type": "display_data"
    }
   ],
   "source": [
    "sns.factorplot(x ='hour',hue='Status',row='day', data = df,kind='count')\n",
    "plt.show()"
   ]
  },
  {
   "cell_type": "code",
   "execution_count": 18,
   "metadata": {
    "execution": {
     "iopub.execute_input": "2021-05-15T09:31:29.499725Z",
     "iopub.status.busy": "2021-05-15T09:31:29.498808Z",
     "iopub.status.idle": "2021-05-15T09:31:29.503630Z",
     "shell.execute_reply": "2021-05-15T09:31:29.502994Z"
    },
    "papermill": {
     "duration": 0.04951,
     "end_time": "2021-05-15T09:31:29.503754",
     "exception": false,
     "start_time": "2021-05-15T09:31:29.454244",
     "status": "completed"
    },
    "tags": []
   },
   "outputs": [
    {
     "data": {
      "text/plain": [
       "Index(['Request id', 'Pickup point', 'Driver id', 'Status',\n",
       "       'Request timestamp', 'Drop timestamp', 'day', 'hour'],\n",
       "      dtype='object')"
      ]
     },
     "execution_count": 18,
     "metadata": {},
     "output_type": "execute_result"
    }
   ],
   "source": [
    "df.columns"
   ]
  },
  {
   "cell_type": "code",
   "execution_count": 19,
   "metadata": {
    "execution": {
     "iopub.execute_input": "2021-05-15T09:31:29.591161Z",
     "iopub.status.busy": "2021-05-15T09:31:29.588810Z",
     "iopub.status.idle": "2021-05-15T09:31:30.206918Z",
     "shell.execute_reply": "2021-05-15T09:31:30.207425Z"
    },
    "papermill": {
     "duration": 0.663593,
     "end_time": "2021-05-15T09:31:30.207637",
     "exception": false,
     "start_time": "2021-05-15T09:31:29.544044",
     "status": "completed"
    },
    "tags": []
   },
   "outputs": [
    {
     "data": {
      "text/plain": [
       "<seaborn.axisgrid.FacetGrid at 0x7fc470c9c410>"
      ]
     },
     "execution_count": 19,
     "metadata": {},
     "output_type": "execute_result"
    },
    {
     "data": {
      "image/png": "[encoded data removed]",
      "text/plain": [
       "<Figure size 430.125x360 with 1 Axes>"
      ]
     },
     "metadata": {
      "needs_background": "light"
     },
     "output_type": "display_data"
    }
   ],
   "source": [
    "sns.factorplot(x='hour', hue='Pickup point',data=df, kind='count')"
   ]
  },
  {
   "cell_type": "markdown",
   "metadata": {
    "papermill": {
     "duration": 0.039753,
     "end_time": "2021-05-15T09:31:30.287677",
     "exception": false,
     "start_time": "2021-05-15T09:31:30.247924",
     "status": "completed"
    },
    "tags": []
   },
   "source": [
    "# for better vision divide the timespan into 4 different time slots"
   ]
  },
  {
   "cell_type": "code",
   "execution_count": 20,
   "metadata": {
    "execution": {
     "iopub.execute_input": "2021-05-15T09:31:30.380439Z",
     "iopub.status.busy": "2021-05-15T09:31:30.379727Z",
     "iopub.status.idle": "2021-05-15T09:31:30.381904Z",
     "shell.execute_reply": "2021-05-15T09:31:30.382393Z"
    },
    "papermill": {
     "duration": 0.054712,
     "end_time": "2021-05-15T09:31:30.382561",
     "exception": false,
     "start_time": "2021-05-15T09:31:30.327849",
     "status": "completed"
    },
    "tags": []
   },
   "outputs": [],
   "source": [
    "def timespan(hr):\n",
    "    if hr<5:\n",
    "        return 'Pre Morning'\n",
    "    elif 5<hr<10:\n",
    "        return 'Morning'\n",
    "    elif 10<hr<17:\n",
    "        return 'After 10am'\n",
    "    elif 17<hr<22:\n",
    "        return 'Eve'\n",
    "    else:\n",
    "        return 'Night'\n",
    "df['timeslot']=df.hour.apply(lambda hr: timespan(hr))"
   ]
  },
  {
   "cell_type": "code",
   "execution_count": 21,
   "metadata": {
    "execution": {
     "iopub.execute_input": "2021-05-15T09:31:30.473504Z",
     "iopub.status.busy": "2021-05-15T09:31:30.472793Z",
     "iopub.status.idle": "2021-05-15T09:31:30.477036Z",
     "shell.execute_reply": "2021-05-15T09:31:30.476374Z"
    },
    "papermill": {
     "duration": 0.053919,
     "end_time": "2021-05-15T09:31:30.477192",
     "exception": false,
     "start_time": "2021-05-15T09:31:30.423273",
     "status": "completed"
    },
    "tags": []
   },
   "outputs": [
    {
     "data": {
      "text/plain": [
       "Eve            1924\n",
       "Morning        1658\n",
       "Night          1604\n",
       "After 10am      981\n",
       "Pre Morning     578\n",
       "Name: timeslot, dtype: int64"
      ]
     },
     "execution_count": 21,
     "metadata": {},
     "output_type": "execute_result"
    }
   ],
   "source": [
    "df['timeslot'].value_counts()"
   ]
  },
  {
   "cell_type": "code",
   "execution_count": 22,
   "metadata": {
    "execution": {
     "iopub.execute_input": "2021-05-15T09:31:30.568614Z",
     "iopub.status.busy": "2021-05-15T09:31:30.566037Z",
     "iopub.status.idle": "2021-05-15T09:31:30.904644Z",
     "shell.execute_reply": "2021-05-15T09:31:30.904133Z"
    },
    "papermill": {
     "duration": 0.386482,
     "end_time": "2021-05-15T09:31:30.904765",
     "exception": false,
     "start_time": "2021-05-15T09:31:30.518283",
     "status": "completed"
    },
    "tags": []
   },
   "outputs": [
    {
     "data": {
      "text/plain": [
       "<seaborn.axisgrid.FacetGrid at 0x7fc4715033d0>"
      ]
     },
     "execution_count": 22,
     "metadata": {},
     "output_type": "execute_result"
    },
    {
     "data": {
      "image/png": "[encoded data removed]",
      "text/plain": [
       "<Figure size 430.125x360 with 1 Axes>"
      ]
     },
     "metadata": {
      "needs_background": "light"
     },
     "output_type": "display_data"
    }
   ],
   "source": [
    "sns.factorplot(x='timeslot', hue='Pickup point' , data=df , kind='count')"
   ]
  },
  {
   "cell_type": "code",
   "execution_count": 23,
   "metadata": {
    "execution": {
     "iopub.execute_input": "2021-05-15T09:31:30.996996Z",
     "iopub.status.busy": "2021-05-15T09:31:30.996211Z",
     "iopub.status.idle": "2021-05-15T09:31:31.698877Z",
     "shell.execute_reply": "2021-05-15T09:31:31.698387Z"
    },
    "papermill": {
     "duration": 0.752821,
     "end_time": "2021-05-15T09:31:31.698993",
     "exception": false,
     "start_time": "2021-05-15T09:31:30.946172",
     "status": "completed"
    },
    "tags": []
   },
   "outputs": [
    {
     "data": {
      "text/plain": [
       "<seaborn.axisgrid.FacetGrid at 0x7fc47091fb90>"
      ]
     },
     "execution_count": 23,
     "metadata": {},
     "output_type": "execute_result"
    },
    {
     "data": {
      "image/png": "[encoded data removed]",
      "text/plain": [
       "<Figure size 483.5x720 with 2 Axes>"
      ]
     },
     "metadata": {
      "needs_background": "light"
     },
     "output_type": "display_data"
    }
   ],
   "source": [
    "sns.factorplot(x='timeslot', hue='Status',row ='Pickup point', data= df , kind='count')"
   ]
  },
  {
   "cell_type": "markdown",
   "metadata": {
    "papermill": {
     "duration": 0.043109,
     "end_time": "2021-05-15T09:31:31.784504",
     "exception": false,
     "start_time": "2021-05-15T09:31:31.741395",
     "status": "completed"
    },
    "tags": []
   },
   "source": [
    "****max cancellations are in morning from city to airport \n",
    "****max no cars available in eve from airport to city****"
   ]
  },
  {
   "cell_type": "code",
   "execution_count": 24,
   "metadata": {
    "execution": {
     "iopub.execute_input": "2021-05-15T09:31:31.878567Z",
     "iopub.status.busy": "2021-05-15T09:31:31.876811Z",
     "iopub.status.idle": "2021-05-15T09:31:32.200996Z",
     "shell.execute_reply": "2021-05-15T09:31:32.200359Z"
    },
    "papermill": {
     "duration": 0.373878,
     "end_time": "2021-05-15T09:31:32.201128",
     "exception": false,
     "start_time": "2021-05-15T09:31:31.827250",
     "status": "completed"
    },
    "tags": []
   },
   "outputs": [
    {
     "data": {
      "text/plain": [
       "<matplotlib.axes._subplots.AxesSubplot at 0x7fc470bc5e50>"
      ]
     },
     "execution_count": 24,
     "metadata": {},
     "output_type": "execute_result"
    },
    {
     "data": {
      "image/png": "[encoded data removed]",
      "text/plain": [
       "<Figure size 432x288 with 1 Axes>"
      ]
     },
     "metadata": {
      "needs_background": "light"
     },
     "output_type": "display_data"
    }
   ],
   "source": [
    "df_mor=df[df.timeslot=='Morning']\n",
    "sns.countplot(x='Pickup point',hue='Status',data=df_mor)"
   ]
  },
  {
   "cell_type": "markdown",
   "metadata": {
    "papermill": {
     "duration": 0.043872,
     "end_time": "2021-05-15T09:31:32.289786",
     "exception": false,
     "start_time": "2021-05-15T09:31:32.245914",
     "status": "completed"
    },
    "tags": []
   },
   "source": [
    "****as you can see the max cars cancelled are from city****"
   ]
  },
  {
   "cell_type": "code",
   "execution_count": 25,
   "metadata": {
    "execution": {
     "iopub.execute_input": "2021-05-15T09:31:32.387668Z",
     "iopub.status.busy": "2021-05-15T09:31:32.385539Z",
     "iopub.status.idle": "2021-05-15T09:31:32.392667Z",
     "shell.execute_reply": "2021-05-15T09:31:32.393369Z"
    },
    "papermill": {
     "duration": 0.059312,
     "end_time": "2021-05-15T09:31:32.393536",
     "exception": false,
     "start_time": "2021-05-15T09:31:32.334224",
     "status": "completed"
    },
    "tags": []
   },
   "outputs": [
    {
     "name": "stdout",
     "output_type": "stream",
     "text": [
      "648\n"
     ]
    }
   ],
   "source": [
    "df_city_cars_cancelled=df_mor.loc[(df_mor['Pickup point']=='City') & (df_mor['Status']=='Cancelled')]\n",
    "print(len(df_city_cars_cancelled))"
   ]
  },
  {
   "cell_type": "code",
   "execution_count": 26,
   "metadata": {
    "execution": {
     "iopub.execute_input": "2021-05-15T09:31:32.494357Z",
     "iopub.status.busy": "2021-05-15T09:31:32.493448Z",
     "iopub.status.idle": "2021-05-15T09:31:32.498564Z",
     "shell.execute_reply": "2021-05-15T09:31:32.497515Z"
    },
    "papermill": {
     "duration": 0.059571,
     "end_time": "2021-05-15T09:31:32.498751",
     "exception": false,
     "start_time": "2021-05-15T09:31:32.439180",
     "status": "completed"
    },
    "tags": []
   },
   "outputs": [
    {
     "name": "stdout",
     "output_type": "stream",
     "text": [
      "372\n"
     ]
    }
   ],
   "source": [
    "#lets see demand and supply in city in the morning slot\n",
    "df_city_comp=df_mor.loc[(df_mor['Pickup point']=='City') & (df_mor['Status']=='Trip Completed')]\n",
    "print(len(df_city_comp))"
   ]
  },
  {
   "cell_type": "code",
   "execution_count": 27,
   "metadata": {
    "execution": {
     "iopub.execute_input": "2021-05-15T09:31:32.600840Z",
     "iopub.status.busy": "2021-05-15T09:31:32.600161Z",
     "iopub.status.idle": "2021-05-15T09:31:32.603127Z",
     "shell.execute_reply": "2021-05-15T09:31:32.603762Z"
    },
    "papermill": {
     "duration": 0.057576,
     "end_time": "2021-05-15T09:31:32.603926",
     "exception": false,
     "start_time": "2021-05-15T09:31:32.546350",
     "status": "completed"
    },
    "tags": []
   },
   "outputs": [
    {
     "name": "stdout",
     "output_type": "stream",
     "text": [
      "1324\n"
     ]
    }
   ],
   "source": [
    "df_city_demand=df_mor.loc[df_mor['Pickup point']=='City']\n",
    "print(len(df_city_demand))"
   ]
  },
  {
   "cell_type": "code",
   "execution_count": 28,
   "metadata": {
    "execution": {
     "iopub.execute_input": "2021-05-15T09:31:32.703315Z",
     "iopub.status.busy": "2021-05-15T09:31:32.702623Z",
     "iopub.status.idle": "2021-05-15T09:31:32.708459Z",
     "shell.execute_reply": "2021-05-15T09:31:32.707894Z"
    },
    "papermill": {
     "duration": 0.058207,
     "end_time": "2021-05-15T09:31:32.708583",
     "exception": false,
     "start_time": "2021-05-15T09:31:32.650376",
     "status": "completed"
    },
    "tags": []
   },
   "outputs": [
    {
     "name": "stdout",
     "output_type": "stream",
     "text": [
      "19\n"
     ]
    }
   ],
   "source": [
    "df_airport_cars_cancelled=df_mor.loc[(df_mor['Pickup point']=='Airport') & (df_mor['Status']=='Cancelled')]\n",
    "print(len(df_airport_cars_cancelled))"
   ]
  },
  {
   "cell_type": "code",
   "execution_count": 29,
   "metadata": {
    "execution": {
     "iopub.execute_input": "2021-05-15T09:31:32.813490Z",
     "iopub.status.busy": "2021-05-15T09:31:32.812518Z",
     "iopub.status.idle": "2021-05-15T09:31:32.817017Z",
     "shell.execute_reply": "2021-05-15T09:31:32.816384Z"
    },
    "papermill": {
     "duration": 0.06001,
     "end_time": "2021-05-15T09:31:32.817161",
     "exception": false,
     "start_time": "2021-05-15T09:31:32.757151",
     "status": "completed"
    },
    "tags": []
   },
   "outputs": [
    {
     "name": "stdout",
     "output_type": "stream",
     "text": [
      "297\n"
     ]
    }
   ],
   "source": [
    "#lets see demand and supply in airport in the morning slot\n",
    "df_airport_comp=df_mor.loc[(df_mor['Pickup point']=='Airport')  & (df_mor['Status']=='Trip Completed')]\n",
    "print(len(df_airport_comp))"
   ]
  },
  {
   "cell_type": "code",
   "execution_count": 30,
   "metadata": {
    "execution": {
     "iopub.execute_input": "2021-05-15T09:31:32.921693Z",
     "iopub.status.busy": "2021-05-15T09:31:32.920982Z",
     "iopub.status.idle": "2021-05-15T09:31:32.923891Z",
     "shell.execute_reply": "2021-05-15T09:31:32.924463Z"
    },
    "papermill": {
     "duration": 0.058339,
     "end_time": "2021-05-15T09:31:32.924663",
     "exception": false,
     "start_time": "2021-05-15T09:31:32.866324",
     "status": "completed"
    },
    "tags": []
   },
   "outputs": [
    {
     "name": "stdout",
     "output_type": "stream",
     "text": [
      "334\n"
     ]
    }
   ],
   "source": [
    "df_airport_demand=df_mor.loc[df_mor['Pickup point']=='Airport']\n",
    "print(len(df_airport_demand))"
   ]
  },
  {
   "cell_type": "code",
   "execution_count": 31,
   "metadata": {
    "execution": {
     "iopub.execute_input": "2021-05-15T09:31:33.028946Z",
     "iopub.status.busy": "2021-05-15T09:31:33.028236Z",
     "iopub.status.idle": "2021-05-15T09:31:33.183344Z",
     "shell.execute_reply": "2021-05-15T09:31:33.182757Z"
    },
    "papermill": {
     "duration": 0.210549,
     "end_time": "2021-05-15T09:31:33.183476",
     "exception": false,
     "start_time": "2021-05-15T09:31:32.972927",
     "status": "completed"
    },
    "tags": []
   },
   "outputs": [
    {
     "data": {
      "text/plain": [
       "<matplotlib.axes._subplots.AxesSubplot at 0x7fc470dfde50>"
      ]
     },
     "execution_count": 31,
     "metadata": {},
     "output_type": "execute_result"
    },
    {
     "data": {
      "image/png": "[encoded data removed]",
      "text/plain": [
       "<Figure size 432x288 with 1 Axes>"
      ]
     },
     "metadata": {
      "needs_background": "light"
     },
     "output_type": "display_data"
    }
   ],
   "source": [
    "df_eve=df[df.timeslot=='Eve']\n",
    "sns.countplot(x='Pickup point', hue='Status', data= df_eve)"
   ]
  },
  {
   "cell_type": "code",
   "execution_count": 32,
   "metadata": {
    "execution": {
     "iopub.execute_input": "2021-05-15T09:31:33.290557Z",
     "iopub.status.busy": "2021-05-15T09:31:33.289601Z",
     "iopub.status.idle": "2021-05-15T09:31:33.293531Z",
     "shell.execute_reply": "2021-05-15T09:31:33.294341Z"
    },
    "papermill": {
     "duration": 0.061593,
     "end_time": "2021-05-15T09:31:33.294556",
     "exception": false,
     "start_time": "2021-05-15T09:31:33.232963",
     "status": "completed"
    },
    "tags": []
   },
   "outputs": [
    {
     "name": "stdout",
     "output_type": "stream",
     "text": [
      "54\n"
     ]
    }
   ],
   "source": [
    "df_city_cars_notavailable=df_eve.loc[(df_eve['Pickup point']=='City') & (df_eve['Status']=='No Cars Available')]\n",
    "print(len(df_city_cars_notavailable))"
   ]
  },
  {
   "cell_type": "code",
   "execution_count": 33,
   "metadata": {
    "execution": {
     "iopub.execute_input": "2021-05-15T09:31:33.402564Z",
     "iopub.status.busy": "2021-05-15T09:31:33.401547Z",
     "iopub.status.idle": "2021-05-15T09:31:33.405943Z",
     "shell.execute_reply": "2021-05-15T09:31:33.406429Z"
    },
    "papermill": {
     "duration": 0.061728,
     "end_time": "2021-05-15T09:31:33.406615",
     "exception": false,
     "start_time": "2021-05-15T09:31:33.344887",
     "status": "completed"
    },
    "tags": []
   },
   "outputs": [
    {
     "name": "stdout",
     "output_type": "stream",
     "text": [
      "334\n"
     ]
    }
   ],
   "source": [
    "#lets see demand and supply in city in the evening slot\n",
    "df_city_completed=df_eve.loc[(df_eve['Pickup point']=='City') & (df_eve['Status']=='Trip Completed')]\n",
    "print(len(df_city_completed))"
   ]
  },
  {
   "cell_type": "code",
   "execution_count": 34,
   "metadata": {
    "execution": {
     "iopub.execute_input": "2021-05-15T09:31:33.513676Z",
     "iopub.status.busy": "2021-05-15T09:31:33.512735Z",
     "iopub.status.idle": "2021-05-15T09:31:33.517443Z",
     "shell.execute_reply": "2021-05-15T09:31:33.516531Z"
    },
    "papermill": {
     "duration": 0.06141,
     "end_time": "2021-05-15T09:31:33.517608",
     "exception": false,
     "start_time": "2021-05-15T09:31:33.456198",
     "status": "completed"
    },
    "tags": []
   },
   "outputs": [
    {
     "name": "stdout",
     "output_type": "stream",
     "text": [
      "432\n"
     ]
    }
   ],
   "source": [
    "df_city_cars_demand=df_eve.loc[df_eve['Pickup point']=='City']\n",
    "print(len(df_city_cars_demand))"
   ]
  },
  {
   "cell_type": "code",
   "execution_count": 35,
   "metadata": {
    "execution": {
     "iopub.execute_input": "2021-05-15T09:31:33.628788Z",
     "iopub.status.busy": "2021-05-15T09:31:33.627656Z",
     "iopub.status.idle": "2021-05-15T09:31:33.633049Z",
     "shell.execute_reply": "2021-05-15T09:31:33.633951Z"
    },
    "papermill": {
     "duration": 0.063316,
     "end_time": "2021-05-15T09:31:33.634224",
     "exception": false,
     "start_time": "2021-05-15T09:31:33.570908",
     "status": "completed"
    },
    "tags": []
   },
   "outputs": [
    {
     "name": "stdout",
     "output_type": "stream",
     "text": [
      "1106\n"
     ]
    }
   ],
   "source": [
    "df_airport_cars_notavailable=df_eve.loc[(df_eve['Pickup point']=='Airport') & (df_eve['Status']=='No Cars Available')]\n",
    "print(len(df_airport_cars_notavailable))"
   ]
  },
  {
   "cell_type": "code",
   "execution_count": 36,
   "metadata": {
    "execution": {
     "iopub.execute_input": "2021-05-15T09:31:33.745172Z",
     "iopub.status.busy": "2021-05-15T09:31:33.744247Z",
     "iopub.status.idle": "2021-05-15T09:31:33.748489Z",
     "shell.execute_reply": "2021-05-15T09:31:33.749229Z"
    },
    "papermill": {
     "duration": 0.06343,
     "end_time": "2021-05-15T09:31:33.749435",
     "exception": false,
     "start_time": "2021-05-15T09:31:33.686005",
     "status": "completed"
    },
    "tags": []
   },
   "outputs": [
    {
     "name": "stdout",
     "output_type": "stream",
     "text": [
      "299\n"
     ]
    }
   ],
   "source": [
    "#lets see demand and supply in airport in the evening slot \n",
    "df_airport_completed=df_eve.loc[(df_eve['Pickup point']=='Airport') & (df_eve['Status']=='Trip Completed')]\n",
    "print(len(df_airport_completed))"
   ]
  },
  {
   "cell_type": "code",
   "execution_count": 37,
   "metadata": {
    "execution": {
     "iopub.execute_input": "2021-05-15T09:31:33.861354Z",
     "iopub.status.busy": "2021-05-15T09:31:33.860210Z",
     "iopub.status.idle": "2021-05-15T09:31:33.866276Z",
     "shell.execute_reply": "2021-05-15T09:31:33.865529Z"
    },
    "papermill": {
     "duration": 0.062777,
     "end_time": "2021-05-15T09:31:33.866445",
     "exception": false,
     "start_time": "2021-05-15T09:31:33.803668",
     "status": "completed"
    },
    "tags": []
   },
   "outputs": [
    {
     "name": "stdout",
     "output_type": "stream",
     "text": [
      "1492\n"
     ]
    }
   ],
   "source": [
    "df_airport_cars_demand=df_eve.loc[df_eve['Pickup point']=='Airport']\n",
    "print(len(df_airport_cars_demand))"
   ]
  },
  {
   "cell_type": "markdown",
   "metadata": {
    "papermill": {
     "duration": 0.051231,
     "end_time": "2021-05-15T09:31:33.970607",
     "exception": false,
     "start_time": "2021-05-15T09:31:33.919376",
     "status": "completed"
    },
    "tags": []
   },
   "source": [
    "# now lets have a look more clearly using pie chart"
   ]
  },
  {
   "cell_type": "code",
   "execution_count": 38,
   "metadata": {
    "execution": {
     "iopub.execute_input": "2021-05-15T09:31:34.086796Z",
     "iopub.status.busy": "2021-05-15T09:31:34.082915Z",
     "iopub.status.idle": "2021-05-15T09:31:34.151963Z",
     "shell.execute_reply": "2021-05-15T09:31:34.151439Z"
    },
    "papermill": {
     "duration": 0.129876,
     "end_time": "2021-05-15T09:31:34.152103",
     "exception": false,
     "start_time": "2021-05-15T09:31:34.022227",
     "status": "completed"
    },
    "tags": []
   },
   "outputs": [
    {
     "name": "stderr",
     "output_type": "stream",
     "text": [
      "/opt/conda/lib/python3.7/site-packages/ipykernel_launcher.py:4: MatplotlibDeprecationWarning: Non-1D inputs to pie() are currently squeeze()d, but this behavior is deprecated since 3.1 and will be removed in 3.3; pass a 1D array instead.\n",
      "  after removing the cwd from sys.path.\n"
     ]
    },
    {
     "data": {
      "text/plain": [
       "([<matplotlib.patches.Wedge at 0x7fc470e6b090>,\n",
       "  <matplotlib.patches.Wedge at 0x7fc470e6b550>,\n",
       "  <matplotlib.patches.Wedge at 0x7fc470ce8a50>],\n",
       " [Text(0.03653444542939247, 1.0993931209067878, 'Cancelled'),\n",
       "  Text(-0.7534583310544382, -0.8014365498058226, 'Trip Completed'),\n",
       "  Text(0.8260191017991098, -0.726424423779234, 'No Cars Available')],\n",
       " [Text(0.019927879325123164, 0.599668975040066, '48.9%'),\n",
       "  Text(-0.41097727148423896, -0.4371472089849941, '28.1%'),\n",
       "  Text(0.4505558737086053, -0.3962315038795821, '23.0%')])"
      ]
     },
     "execution_count": 38,
     "metadata": {},
     "output_type": "execute_result"
    },
    {
     "data": {
      "image/png": "[encoded data removed]",
      "text/plain": [
       "<Figure size 432x288 with 1 Axes>"
      ]
     },
     "metadata": {},
     "output_type": "display_data"
    }
   ],
   "source": [
    "df_city=df.loc[(df['Pickup point']=='City') & (df['timeslot']=='Morning')]\n",
    "df_city_plot=pd.DataFrame(df_city.Status.value_counts())\n",
    "labels=df_city_plot.index.values\n",
    "plt.pie(df_city_plot,labels=labels,autopct='%1.1f%%')"
   ]
  },
  {
   "cell_type": "code",
   "execution_count": 39,
   "metadata": {
    "execution": {
     "iopub.execute_input": "2021-05-15T09:31:34.268606Z",
     "iopub.status.busy": "2021-05-15T09:31:34.267549Z",
     "iopub.status.idle": "2021-05-15T09:31:34.334359Z",
     "shell.execute_reply": "2021-05-15T09:31:34.334840Z"
    },
    "papermill": {
     "duration": 0.129781,
     "end_time": "2021-05-15T09:31:34.335019",
     "exception": false,
     "start_time": "2021-05-15T09:31:34.205238",
     "status": "completed"
    },
    "tags": []
   },
   "outputs": [
    {
     "name": "stderr",
     "output_type": "stream",
     "text": [
      "/opt/conda/lib/python3.7/site-packages/ipykernel_launcher.py:4: MatplotlibDeprecationWarning: Non-1D inputs to pie() are currently squeeze()d, but this behavior is deprecated since 3.1 and will be removed in 3.3; pass a 1D array instead.\n",
      "  after removing the cwd from sys.path.\n"
     ]
    },
    {
     "data": {
      "text/plain": [
       "([<matplotlib.patches.Wedge at 0x7fc470d219d0>,\n",
       "  <matplotlib.patches.Wedge at 0x7fc470d21b90>,\n",
       "  <matplotlib.patches.Wedge at 0x7fc470e604d0>],\n",
       " [Text(-0.7562374625099835, 0.7988146845773815, 'No Cars Available'),\n",
       "  Text(0.5980666002858239, -0.9232098036863325, 'Trip Completed'),\n",
       "  Text(1.0815944740926404, -0.2003831170839126, 'Cancelled')],\n",
       " [Text(-0.4124931613690818, 0.43571710067857167, '74.1%'),\n",
       "  Text(0.3262181456104494, -0.5035689838289086, '20.0%'),\n",
       "  Text(0.5899606222323492, -0.1092998820457705, '5.8%')])"
      ]
     },
     "execution_count": 39,
     "metadata": {},
     "output_type": "execute_result"
    },
    {
     "data": {
      "image/png": "[encoded data removed]",
      "text/plain": [
       "<Figure size 432x288 with 1 Axes>"
      ]
     },
     "metadata": {},
     "output_type": "display_data"
    }
   ],
   "source": [
    "df_airport=df.loc[(df['Pickup point']=='Airport') & (df['timeslot']=='Eve')]\n",
    "df_airport_plot=pd.DataFrame(df_airport.Status.value_counts())\n",
    "labels=df_airport_plot.index.values\n",
    "plt.pie(df_airport_plot,labels=labels,autopct='%1.1f%%')\n"
   ]
  }
 ],
 "metadata": {
  "kernelspec": {
   "display_name": "Python 3",
   "language": "python",
   "name": "python3"
  },
  "language_info": {
   "codemirror_mode": {
    "name": "ipython",
    "version": 3
   },
   "file_extension": ".py",
   "mimetype": "text/x-python",
   "name": "python",
   "nbconvert_exporter": "python",
   "pygments_lexer": "ipython3",
   "version": "3.7.6"
  },
  "papermill": {
   "duration": 16.913385,
   "end_time": "2021-05-15T09:31:34.498392",
   "environment_variables": {},
   "exception": null,
   "input_path": "__notebook__.ipynb",
   "output_path": "__notebook__.ipynb",
   "parameters": {},
   "start_time": "2021-05-15T09:31:17.585007",
   "version": "2.1.0"
  }
 },
 "nbformat": 4,
 "nbformat_minor": 4
}
